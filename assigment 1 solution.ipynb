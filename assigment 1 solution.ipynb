{
 "cells": [
  {
   "cell_type": "code",
   "execution_count": 56,
   "id": "4c966d6d",
   "metadata": {},
   "outputs": [],
   "source": [
    "import csv\n",
    "products = [\n",
    "    [\"p1\", \"p2\", \"p3\", \"p4\", \"p5\",\"p6\",\"p7\",\"p8\",\"p9\",\"p10\",\"p11\",\"p12\",\"p13\",\"p14\",\"p15\",\"p16\",\"p17\",\"p18\",\"p19\",\"p20\"],\n",
    "    [\"orange\",\"pear\",\"Pear\",\"lemon\",\"strawberries\",\"apple\", \"banana\", \"grape\",\"pineapple\",\"orange\",\"tomato\",\"potato\",\"mashroom\",\"pepper\",\"onion\",\"carrot\",\"turnips\",\"gigner\",\"chillies\",\"garlic\"],\n",
    "]\n"
   ]
  },
  {
   "cell_type": "code",
   "execution_count": 57,
   "id": "8b19e773",
   "metadata": {},
   "outputs": [],
   "source": [
    "sales = [\n",
    "    [\"person1\", \"Mar-01\", [\"p1\",\"p13\",\"p15\",\"p8\",\"p9\"]],\n",
    "    [\"person2\", \"Mar-01\", [\"p3\",\"p5\",\"p20\",\"p4\"]],\n",
    "    [\"person3\", \"Mar-01\", [\"p8\",\"p9\",\"p13\",\"p17\"]],\n",
    "    [\"person4\", \"Mar-01\", [\"p9\",\"p2\",\"p5\",\"p8\",\"p9\",\"p16\",\"p19\"]],\n",
    "    [\"person1\", \"Mar-02\", [\"p7\",\"p8\",\"p14\",\"p16\",\"p19\"]],\n",
    "    [\"person2\", \"Mar-02\", [\"p4\",\"p8\",\"p12\",\"p12\"]],\n",
    "    [\"person3\", \"Mar-02\", [\"p11\",\"p1\",\"p18\",\"p17\"]],\n",
    "    [\"person4\", \"Mar-02\", [\"p13\",\"p17\",\"p18\",\"p9\",\"p10\"]],\n",
    "    [\"person1\", \"Mar-03\", [\"p3\",\"p7\",\"p9\",\"p19\",\"p20\",\"p8\"]],\n",
    "    [\"person2\", \"Mar-03\", [\"p16\",\"p6\",\"p4\",\"p14\",\"p19\",\"p20\"]],\n",
    "    [\"person3\", \"Mar-03\", [\"p14\",\"p18\",\"p8\",\"p9\",\"p10\"]],\n",
    "    [\"person4\", \"Mar-03\", [\"p2\",\"p6\",\"p7\",\"p11\",\"p15\",\"p16\"]],\n",
    "]"
   ]
  },
  {
   "cell_type": "code",
   "execution_count": 58,
   "id": "184c0439",
   "metadata": {},
   "outputs": [
    {
     "data": {
      "text/plain": [
       "['person4', 'Mar-03']"
      ]
     },
     "execution_count": 58,
     "metadata": {},
     "output_type": "execute_result"
    }
   ],
   "source": [
    "csv_data = [sale[0], sale[1]]\n",
    "product_ids = sale[2]\n",
    "csv_data"
   ]
  },
  {
   "cell_type": "code",
   "execution_count": 59,
   "id": "f515e1f2",
   "metadata": {},
   "outputs": [
    {
     "data": {
      "text/plain": [
       "['p2', 'p6', 'p7', 'p11', 'p15', 'p16']"
      ]
     },
     "execution_count": 59,
     "metadata": {},
     "output_type": "execute_result"
    }
   ],
   "source": [
    "product_ids"
   ]
  },
  {
   "cell_type": "code",
   "execution_count": 60,
   "id": "d1f57d8f",
   "metadata": {},
   "outputs": [
    {
     "data": {
      "text/plain": [
       "['p1',\n",
       " 'p2',\n",
       " 'p3',\n",
       " 'p4',\n",
       " 'p5',\n",
       " 'p6',\n",
       " 'p7',\n",
       " 'p8',\n",
       " 'p9',\n",
       " 'p10',\n",
       " 'p11',\n",
       " 'p12',\n",
       " 'p13',\n",
       " 'p14',\n",
       " 'p15',\n",
       " 'p16',\n",
       " 'p17',\n",
       " 'p18',\n",
       " 'p19',\n",
       " 'p20']"
      ]
     },
     "execution_count": 60,
     "metadata": {},
     "output_type": "execute_result"
    }
   ],
   "source": [
    "CSV_FIELDS = [\"\", \"\"]\n",
    "_product_names = products[1]\n",
    "_product_id =  products[0]\n",
    "_product_id\n"
   ]
  },
  {
   "cell_type": "code",
   "execution_count": 61,
   "id": "1b407943",
   "metadata": {},
   "outputs": [
    {
     "data": {
      "text/plain": [
       "['orange',\n",
       " 'pear',\n",
       " 'Pear',\n",
       " 'lemon',\n",
       " 'strawberries',\n",
       " 'apple',\n",
       " 'banana',\n",
       " 'grape',\n",
       " 'pineapple',\n",
       " 'orange',\n",
       " 'tomato',\n",
       " 'potato',\n",
       " 'mashroom',\n",
       " 'pepper',\n",
       " 'onion',\n",
       " 'carrot',\n",
       " 'turnips',\n",
       " 'gigner',\n",
       " 'chillies',\n",
       " 'garlic']"
      ]
     },
     "execution_count": 61,
     "metadata": {},
     "output_type": "execute_result"
    }
   ],
   "source": [
    "_product_names"
   ]
  },
  {
   "cell_type": "code",
   "execution_count": 62,
   "id": "996e4918",
   "metadata": {},
   "outputs": [
    {
     "data": {
      "text/plain": [
       "['',\n",
       " '',\n",
       " 'orange',\n",
       " 'pear',\n",
       " 'Pear',\n",
       " 'lemon',\n",
       " 'strawberries',\n",
       " 'apple',\n",
       " 'banana',\n",
       " 'grape',\n",
       " 'pineapple',\n",
       " 'orange',\n",
       " 'tomato',\n",
       " 'potato',\n",
       " 'mashroom',\n",
       " 'pepper',\n",
       " 'onion',\n",
       " 'carrot',\n",
       " 'turnips',\n",
       " 'gigner',\n",
       " 'chillies',\n",
       " 'garlic']"
      ]
     },
     "execution_count": 62,
     "metadata": {},
     "output_type": "execute_result"
    }
   ],
   "source": [
    "CSV_FIELDS.extend(_product_names)\n",
    "CSV_FIELDS"
   ]
  },
  {
   "cell_type": "code",
   "execution_count": 63,
   "id": "da9a7f9b",
   "metadata": {},
   "outputs": [
    {
     "data": {
      "text/plain": [
       "{'p1': 'orange',\n",
       " 'p2': 'pear',\n",
       " 'p3': 'Pear',\n",
       " 'p4': 'lemon',\n",
       " 'p5': 'strawberries',\n",
       " 'p6': 'apple',\n",
       " 'p7': 'banana',\n",
       " 'p8': 'grape',\n",
       " 'p9': 'pineapple',\n",
       " 'p10': 'orange',\n",
       " 'p11': 'tomato',\n",
       " 'p12': 'potato',\n",
       " 'p13': 'mashroom',\n",
       " 'p14': 'pepper',\n",
       " 'p15': 'onion',\n",
       " 'p16': 'carrot',\n",
       " 'p17': 'turnips',\n",
       " 'p18': 'gigner',\n",
       " 'p19': 'chillies',\n",
       " 'p20': 'garlic'}"
      ]
     },
     "execution_count": 63,
     "metadata": {},
     "output_type": "execute_result"
    }
   ],
   "source": [
    "CSV_FIELDS.extend(_product_names)\n",
    "CSV_ROWS = []\n",
    "products_dict = dict(zip(products[0], products[1]))\n",
    "products_dict"
   ]
  },
  {
   "cell_type": "code",
   "execution_count": 64,
   "id": "cb831884",
   "metadata": {},
   "outputs": [],
   "source": [
    "for sale in sorted(sales):\n",
    "    csv_data = [sale[0], sale[1]]\n",
    "    product_ids = sale[2]\n",
    "\n",
    "    purchased_products = [ products_dict[product_id]\n",
    "    for product_id in product_ids\n",
    "            \n",
    "    ]\n",
    "\n",
    "    purchase_status = [\"\" for _ in _product_names]\n",
    "    for product in purchased_products:\n",
    "        index = _product_names.index(product)\n",
    "        purchase_status[index] = \"x\"\n",
    "\n",
    "    for status in purchase_status:\n",
    "        csv_data.append(status)\n",
    "\n",
    "    CSV_ROWS.append(csv_data)"
   ]
  },
  {
   "cell_type": "code",
   "execution_count": 65,
   "id": "aeeff778",
   "metadata": {},
   "outputs": [],
   "source": [
    "filename = \"sales_record.csv\"\n",
    "with open(filename, \"w\") as csvfile:\n",
    "    csvwriter = csv.writer(csvfile)\n",
    "    csvwriter.writerow(CSV_FIELDS)\n",
    "    csvwriter.writerows(CSV_ROWS)"
   ]
  },
  {
   "cell_type": "code",
   "execution_count": 66,
   "id": "6b458d4d",
   "metadata": {},
   "outputs": [
    {
     "name": "stdout",
     "output_type": "stream",
     "text": [
      "['pear', 'apple', 'banana', 'tomato', 'onion', 'carrot']\n"
     ]
    }
   ],
   "source": [
    "product_ids = sale[2]\n",
    "purchased_products= []\n",
    "\n",
    "for product_id in product_ids:\n",
    "    purchased_products.append(products_dict[product_id])\n",
    "\n",
    "print(purchased_products)"
   ]
  },
  {
   "cell_type": "code",
   "execution_count": 67,
   "id": "8c31cfea",
   "metadata": {},
   "outputs": [
    {
     "name": "stdout",
     "output_type": "stream",
     "text": [
      "['pear', 'apple', 'banana', 'tomato', 'onion', 'carrot']\n"
     ]
    }
   ],
   "source": [
    "purchase_status=[]\n",
    "\n",
    "for _ in _product_names:\n",
    "    purchase_status.append('')\n",
    "\n",
    "print(purchased_products)"
   ]
  },
  {
   "cell_type": "code",
   "execution_count": null,
   "id": "2f0f3767",
   "metadata": {},
   "outputs": [],
   "source": []
  }
 ],
 "metadata": {
  "kernelspec": {
   "display_name": "Python 3",
   "language": "python",
   "name": "python3"
  },
  "language_info": {
   "codemirror_mode": {
    "name": "ipython",
    "version": 3
   },
   "file_extension": ".py",
   "mimetype": "text/x-python",
   "name": "python",
   "nbconvert_exporter": "python",
   "pygments_lexer": "ipython3",
   "version": "3.8.8"
  }
 },
 "nbformat": 4,
 "nbformat_minor": 5
}
