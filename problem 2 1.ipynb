{
 "cells": [
  {
   "cell_type": "code",
   "execution_count": 2,
   "id": "88f8bad5",
   "metadata": {},
   "outputs": [
    {
     "name": "stdout",
     "output_type": "stream",
     "text": [
      "   PRODUCT ID    RODUCT NAME\n",
      "0          p1         orange\n",
      "1           p2          pear\n",
      "2           p3          Pear\n",
      "3           p4         lemon\n",
      "4           p5  strawberries\n",
      "5           p6         apple\n",
      "6           p7        banana\n",
      "7           p8        grapes\n",
      "8           p9     pineapple\n",
      "9          p10        orange\n",
      "10         p11        tomato\n",
      "11         p12        potato\n",
      "12         p13      mashroom\n",
      "13         p14        pepper\n",
      "14         p15         onion\n",
      "15         p16        carrot\n",
      "16         p17       turnips\n",
      "17         p18        gigner\n",
      "18         p19      chillies\n",
      "19         p20        garlic\n"
     ]
    }
   ],
   "source": [
    "import pandas as pd\n",
    " \n",
    "dataframe1 = pd.read_excel('table1.xlsx')\n",
    " \n",
    "print(dataframe1)"
   ]
  },
  {
   "cell_type": "code",
   "execution_count": 3,
   "id": "d585eebf",
   "metadata": {},
   "outputs": [
    {
     "data": {
      "text/plain": [
       "pandas.core.frame.DataFrame"
      ]
     },
     "execution_count": 3,
     "metadata": {},
     "output_type": "execute_result"
    }
   ],
   "source": [
    "type(dataframe1)"
   ]
  },
  {
   "cell_type": "code",
   "execution_count": 4,
   "id": "9c9bf8c0",
   "metadata": {},
   "outputs": [
    {
     "name": "stdout",
     "output_type": "stream",
     "text": [
      "     Person       Date          Products Baught\n",
      "0   Person 1 2001-03-01        p1,p13,p15,p8,p9\n",
      "1   Person 2 2001-03-01            p3,p5,p20,p4\n",
      "2   Person 3 2001-03-01           p8,p9,p13,p17\n",
      "3   Person 4 2001-03-01  p9,p2,p5,p8,p9,p16,p19\n",
      "4   Person 1 2001-03-01       p7,p8,p14,p16,p19\n",
      "5   Person 2 2001-03-01           p4,p8,p12,p12\n",
      "6   Person 3 2001-03-01          p11,p1,p18,p17\n",
      "7   Person 4 2001-03-01      p13,p17,p18,p9,p10\n",
      "8   Person 1 2001-03-01     p3,p7,p9,p19,p20,p8\n",
      "9   Person 2 2001-03-01   p16,p6,p4,p14,p19,p20\n",
      "10  Person 3 2001-03-01       p14,p18,p8,p9,p10\n",
      "11  Person 4 2001-03-01    p2,p6,p7,p11,p15,p16\n"
     ]
    }
   ],
   "source": [
    "import pandas as pd\n",
    " \n",
    "dataframe2 = pd.read_excel('table2.xlsx')\n",
    " \n",
    "print(dataframe2)"
   ]
  },
  {
   "cell_type": "code",
   "execution_count": 6,
   "id": "b5af60c2",
   "metadata": {},
   "outputs": [],
   "source": [
    "frames = [dataframe1 , dataframe2]"
   ]
  },
  {
   "cell_type": "code",
   "execution_count": 7,
   "id": "ca7ed5ef",
   "metadata": {},
   "outputs": [
    {
     "data": {
      "text/html": [
       "<div>\n",
       "<style scoped>\n",
       "    .dataframe tbody tr th:only-of-type {\n",
       "        vertical-align: middle;\n",
       "    }\n",
       "\n",
       "    .dataframe tbody tr th {\n",
       "        vertical-align: top;\n",
       "    }\n",
       "\n",
       "    .dataframe thead th {\n",
       "        text-align: right;\n",
       "    }\n",
       "</style>\n",
       "<table border=\"1\" class=\"dataframe\">\n",
       "  <thead>\n",
       "    <tr style=\"text-align: right;\">\n",
       "      <th></th>\n",
       "      <th>0</th>\n",
       "      <th>1</th>\n",
       "      <th>2</th>\n",
       "      <th>3</th>\n",
       "      <th>4</th>\n",
       "      <th>5</th>\n",
       "      <th>6</th>\n",
       "      <th>7</th>\n",
       "      <th>8</th>\n",
       "      <th>9</th>\n",
       "      <th>10</th>\n",
       "      <th>11</th>\n",
       "      <th>12</th>\n",
       "      <th>13</th>\n",
       "      <th>14</th>\n",
       "      <th>15</th>\n",
       "      <th>16</th>\n",
       "      <th>17</th>\n",
       "      <th>18</th>\n",
       "      <th>19</th>\n",
       "    </tr>\n",
       "  </thead>\n",
       "  <tbody>\n",
       "    <tr>\n",
       "      <th>PRODUCT ID</th>\n",
       "      <td>p1</td>\n",
       "      <td>p2</td>\n",
       "      <td>p3</td>\n",
       "      <td>p4</td>\n",
       "      <td>p5</td>\n",
       "      <td>p6</td>\n",
       "      <td>p7</td>\n",
       "      <td>p8</td>\n",
       "      <td>p9</td>\n",
       "      <td>p10</td>\n",
       "      <td>p11</td>\n",
       "      <td>p12</td>\n",
       "      <td>p13</td>\n",
       "      <td>p14</td>\n",
       "      <td>p15</td>\n",
       "      <td>p16</td>\n",
       "      <td>p17</td>\n",
       "      <td>p18</td>\n",
       "      <td>p19</td>\n",
       "      <td>p20</td>\n",
       "    </tr>\n",
       "    <tr>\n",
       "      <th>RODUCT NAME</th>\n",
       "      <td>orange</td>\n",
       "      <td>pear</td>\n",
       "      <td>Pear</td>\n",
       "      <td>lemon</td>\n",
       "      <td>strawberries</td>\n",
       "      <td>apple</td>\n",
       "      <td>banana</td>\n",
       "      <td>grapes</td>\n",
       "      <td>pineapple</td>\n",
       "      <td>orange</td>\n",
       "      <td>tomato</td>\n",
       "      <td>potato</td>\n",
       "      <td>mashroom</td>\n",
       "      <td>pepper</td>\n",
       "      <td>onion</td>\n",
       "      <td>carrot</td>\n",
       "      <td>turnips</td>\n",
       "      <td>gigner</td>\n",
       "      <td>chillies</td>\n",
       "      <td>garlic</td>\n",
       "    </tr>\n",
       "  </tbody>\n",
       "</table>\n",
       "</div>"
      ],
      "text/plain": [
       "                 0     1     2      3             4      5       6       7   \\\n",
       "PRODUCT ID      p1     p2    p3     p4            p5     p6      p7      p8   \n",
       "RODUCT NAME  orange  pear  Pear  lemon  strawberries  apple  banana  grapes   \n",
       "\n",
       "                    8       9       10      11        12      13     14  \\\n",
       "PRODUCT ID          p9     p10     p11     p12       p13     p14    p15   \n",
       "RODUCT NAME  pineapple  orange  tomato  potato  mashroom  pepper  onion   \n",
       "\n",
       "                 15       16      17        18      19  \n",
       "PRODUCT ID      p16      p17     p18       p19     p20  \n",
       "RODUCT NAME  carrot  turnips  gigner  chillies  garlic  "
      ]
     },
     "execution_count": 7,
     "metadata": {},
     "output_type": "execute_result"
    }
   ],
   "source": [
    "df1_transposed = dataframe1 .T # or df2.transpose()\n",
    "df1_transposed"
   ]
  },
  {
   "cell_type": "code",
   "execution_count": 7,
   "id": "b7256a7f",
   "metadata": {},
   "outputs": [
    {
     "ename": "KeyError",
     "evalue": "'Person'",
     "output_type": "error",
     "traceback": [
      "\u001b[1;31m---------------------------------------------------------------------------\u001b[0m",
      "\u001b[1;31mKeyError\u001b[0m                                  Traceback (most recent call last)",
      "\u001b[1;32m<ipython-input-7-732476f27361>\u001b[0m in \u001b[0;36m<module>\u001b[1;34m\u001b[0m\n\u001b[1;32m----> 1\u001b[1;33m \u001b[0mdataframe2\u001b[0m\u001b[1;33m.\u001b[0m\u001b[0msort_values\u001b[0m\u001b[1;33m(\u001b[0m\u001b[0mby\u001b[0m\u001b[1;33m=\u001b[0m\u001b[1;33m[\u001b[0m\u001b[1;34m'Person'\u001b[0m\u001b[1;33m]\u001b[0m\u001b[1;33m)\u001b[0m\u001b[1;33m\u001b[0m\u001b[1;33m\u001b[0m\u001b[0m\n\u001b[0m",
      "\u001b[1;32m~\\anaconda3\\lib\\site-packages\\pandas\\core\\frame.py\u001b[0m in \u001b[0;36msort_values\u001b[1;34m(self, by, axis, ascending, inplace, kind, na_position, ignore_index, key)\u001b[0m\n\u001b[0;32m   5453\u001b[0m \u001b[1;33m\u001b[0m\u001b[0m\n\u001b[0;32m   5454\u001b[0m             \u001b[0mby\u001b[0m \u001b[1;33m=\u001b[0m \u001b[0mby\u001b[0m\u001b[1;33m[\u001b[0m\u001b[1;36m0\u001b[0m\u001b[1;33m]\u001b[0m\u001b[1;33m\u001b[0m\u001b[1;33m\u001b[0m\u001b[0m\n\u001b[1;32m-> 5455\u001b[1;33m             \u001b[0mk\u001b[0m \u001b[1;33m=\u001b[0m \u001b[0mself\u001b[0m\u001b[1;33m.\u001b[0m\u001b[0m_get_label_or_level_values\u001b[0m\u001b[1;33m(\u001b[0m\u001b[0mby\u001b[0m\u001b[1;33m,\u001b[0m \u001b[0maxis\u001b[0m\u001b[1;33m=\u001b[0m\u001b[0maxis\u001b[0m\u001b[1;33m)\u001b[0m\u001b[1;33m\u001b[0m\u001b[1;33m\u001b[0m\u001b[0m\n\u001b[0m\u001b[0;32m   5456\u001b[0m \u001b[1;33m\u001b[0m\u001b[0m\n\u001b[0;32m   5457\u001b[0m             \u001b[1;31m# need to rewrap column in Series to apply key function\u001b[0m\u001b[1;33m\u001b[0m\u001b[1;33m\u001b[0m\u001b[1;33m\u001b[0m\u001b[0m\n",
      "\u001b[1;32m~\\anaconda3\\lib\\site-packages\\pandas\\core\\generic.py\u001b[0m in \u001b[0;36m_get_label_or_level_values\u001b[1;34m(self, key, axis)\u001b[0m\n\u001b[0;32m   1682\u001b[0m             \u001b[0mvalues\u001b[0m \u001b[1;33m=\u001b[0m \u001b[0mself\u001b[0m\u001b[1;33m.\u001b[0m\u001b[0maxes\u001b[0m\u001b[1;33m[\u001b[0m\u001b[0maxis\u001b[0m\u001b[1;33m]\u001b[0m\u001b[1;33m.\u001b[0m\u001b[0mget_level_values\u001b[0m\u001b[1;33m(\u001b[0m\u001b[0mkey\u001b[0m\u001b[1;33m)\u001b[0m\u001b[1;33m.\u001b[0m\u001b[0m_values\u001b[0m\u001b[1;33m\u001b[0m\u001b[1;33m\u001b[0m\u001b[0m\n\u001b[0;32m   1683\u001b[0m         \u001b[1;32melse\u001b[0m\u001b[1;33m:\u001b[0m\u001b[1;33m\u001b[0m\u001b[1;33m\u001b[0m\u001b[0m\n\u001b[1;32m-> 1684\u001b[1;33m             \u001b[1;32mraise\u001b[0m \u001b[0mKeyError\u001b[0m\u001b[1;33m(\u001b[0m\u001b[0mkey\u001b[0m\u001b[1;33m)\u001b[0m\u001b[1;33m\u001b[0m\u001b[1;33m\u001b[0m\u001b[0m\n\u001b[0m\u001b[0;32m   1685\u001b[0m \u001b[1;33m\u001b[0m\u001b[0m\n\u001b[0;32m   1686\u001b[0m         \u001b[1;31m# Check for duplicates\u001b[0m\u001b[1;33m\u001b[0m\u001b[1;33m\u001b[0m\u001b[1;33m\u001b[0m\u001b[0m\n",
      "\u001b[1;31mKeyError\u001b[0m: 'Person'"
     ]
    }
   ],
   "source": [
    "dataframe2.sort_values(by=['Person'])"
   ]
  },
  {
   "cell_type": "code",
   "execution_count": null,
   "id": "2e3b8c07",
   "metadata": {},
   "outputs": [],
   "source": []
  }
 ],
 "metadata": {
  "kernelspec": {
   "display_name": "Python 3",
   "language": "python",
   "name": "python3"
  },
  "language_info": {
   "codemirror_mode": {
    "name": "ipython",
    "version": 3
   },
   "file_extension": ".py",
   "mimetype": "text/x-python",
   "name": "python",
   "nbconvert_exporter": "python",
   "pygments_lexer": "ipython3",
   "version": "3.8.8"
  }
 },
 "nbformat": 4,
 "nbformat_minor": 5
}
