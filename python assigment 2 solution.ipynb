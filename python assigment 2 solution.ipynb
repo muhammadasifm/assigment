{
 "cells": [
  {
   "cell_type": "code",
   "execution_count": 13,
   "id": "6cbd6844",
   "metadata": {},
   "outputs": [],
   "source": [
    "def flip_a_bit_in_binary(binary, flip_position):\n",
    "\n",
    "    binary = list(binary)\n",
    "\n",
    "    if binary[-flip_position] == '0':\n",
    "        binary [-flip_position] = '1'\n",
    "    else:\n",
    "        binary[-flip_position] = '0'\n",
    "\n",
    "    return \"\".join(binary)\n",
    "\n",
    "\n"
   ]
  },
  {
   "cell_type": "code",
   "execution_count": 14,
   "id": "722a3d73",
   "metadata": {},
   "outputs": [],
   "source": [
    "\n",
    "def flip_binary(binary, j, k):\n",
    "\n",
    "    if not (isinstance(binary, str) and isinstance(j, int) and isinstance(k, int)):\n",
    "        raise TypeError\n",
    "\n",
    "    if not (j > 0 and k > 0):\n",
    "        return \"invalid input\"\n",
    "\n",
    "\n",
    "    print(\"Input binary:\", binary)\n",
    "    print(\"Input j:\", j)\n",
    "    print(\"Input k:\", k)\n",
    "\n",
    "\n",
    "    print(\"Decimal value of input: \", int(binary, 2))\n",
    "\n",
    "    binary = flip_a_bit_in_binary(binary, j)\n",
    "    binary = flip_a_bit_in_binary(binary, k)\n",
    "    \n",
    "    print(\"Flipped binary: \", binary)\n",
    "    print(\"Decimal value of output: \", int(binary, 2))"
   ]
  },
  {
   "cell_type": "code",
   "execution_count": 15,
   "id": "d9fdde44",
   "metadata": {},
   "outputs": [
    {
     "name": "stdout",
     "output_type": "stream",
     "text": [
      "Enter a binary number: 101101\n",
      "Enter number1: 3\n",
      "Enter number2: 4\n",
      "Input binary: 101101\n",
      "Input j: 3\n",
      "Input k: 4\n",
      "Decimal value of input:  45\n",
      "Flipped binary:  100001\n",
      "Decimal value of output:  33\n"
     ]
    }
   ],
   "source": [
    "binary = input('Enter a binary number: ')\n",
    "j = int(input('Enter number1: '))\n",
    "k = int(input('Enter number2: '))\n",
    "\n",
    "flip_binary(binary,j,k)"
   ]
  },
  {
   "cell_type": "code",
   "execution_count": null,
   "id": "ab3b08c0",
   "metadata": {},
   "outputs": [],
   "source": []
  }
 ],
 "metadata": {
  "kernelspec": {
   "display_name": "Python 3",
   "language": "python",
   "name": "python3"
  },
  "language_info": {
   "codemirror_mode": {
    "name": "ipython",
    "version": 3
   },
   "file_extension": ".py",
   "mimetype": "text/x-python",
   "name": "python",
   "nbconvert_exporter": "python",
   "pygments_lexer": "ipython3",
   "version": "3.8.8"
  }
 },
 "nbformat": 4,
 "nbformat_minor": 5
}
